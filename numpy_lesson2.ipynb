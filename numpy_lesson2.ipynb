{
 "cells": [
  {
   "cell_type": "code",
   "execution_count": 1,
   "id": "f1389e5b-9dad-4600-888b-fad379271e6e",
   "metadata": {},
   "outputs": [],
   "source": [
    "import numpy as np\n",
    "from IPython.display import display"
   ]
  },
  {
   "cell_type": "code",
   "execution_count": 19,
   "id": "be36f908-7e8f-4915-84e8-2274f02d24b1",
   "metadata": {},
   "outputs": [
    {
     "data": {
      "text/plain": [
       "array([ 0,  1,  2,  3,  4,  5,  6,  7,  8,  9, 10, 11, 12, 13, 14, 15, 16,\n",
       "       17, 18, 19, 20, 21, 22, 23, 24])"
      ]
     },
     "metadata": {},
     "output_type": "display_data"
    },
    {
     "data": {
      "text/plain": [
       "array([[ 0,  1,  2,  3,  4,  5,  6,  7,  8,  9],\n",
       "       [10, 11, 12, 13, 14, 15, 16, 17, 18, 19],\n",
       "       [20, 21, 22, 23, 24,  0,  0,  0,  0,  0],\n",
       "       [ 0,  0,  0,  0,  0,  0,  0,  0,  0,  0],\n",
       "       [ 0,  0,  0,  0,  0,  0,  0,  0,  0,  0]])"
      ]
     },
     "metadata": {},
     "output_type": "display_data"
    },
    {
     "data": {
      "text/plain": [
       "array([[0, 1],\n",
       "       [2, 3]])"
      ]
     },
     "metadata": {},
     "output_type": "display_data"
    }
   ],
   "source": [
    "num25= np.arange(0, 25)\n",
    "num25.reshape(5, 5)  # same size\n",
    "\n",
    "display(num25)\n",
    "\n",
    "# resize: do not return value, allow different size , adds 0\n",
    "num25.resize(5, 10) # can change size\n",
    "display(num25)\n",
    "\n",
    "num25.resize(2, 2) # can change size\n",
    "display(num25)\n"
   ]
  },
  {
   "cell_type": "code",
   "execution_count": 45,
   "id": "9ea1a34f-b803-4993-95df-729155e7825a",
   "metadata": {},
   "outputs": [
    {
     "name": "stdout",
     "output_type": "stream",
     "text": [
      "[[92 54]\n",
      " [56 22]\n",
      " [65 22]\n",
      " [52 59]\n",
      " [40 91]]\n",
      "  [0 1 2 3 4 5 6 7 8 9]\n",
      "max 92\n",
      "min 22\n",
      "argmax 0\n",
      "argmin 3\n",
      "shape (5, 2)\n"
     ]
    }
   ],
   "source": [
    "np.random.seed(9)\n",
    "\n",
    "rand_array = np.random.randint(0, 101, (5, 2))\n",
    "print(rand_array)\n",
    "print(' ', np.arange(0, 10))\n",
    "print('max', rand_array.max())  # max\n",
    "print('min', rand_array.min())  # min\n",
    "print('argmax', rand_array.argmax())\n",
    "print('argmin', rand_array.argmin())\n",
    "print('shape', rand_array.shape)  # shape of the array"
   ]
  },
  {
   "cell_type": "code",
   "execution_count": 48,
   "id": "f0f04bf8-7c4a-4adb-b740-0f6c6f89836b",
   "metadata": {},
   "outputs": [
    {
     "name": "stdout",
     "output_type": "stream",
     "text": [
      "[5 6 8 6 1 6 4 8 1 8]\n",
      "[0 1 2 3 4 5 6 7 8 9]  index \n",
      "\n",
      "rand_array[:7]   [5 6 8 6 1 6 4]\n",
      "rand_array[:7:3] [5 6 4]\n",
      "rand_array[::-1] [8 1 8 4 6 1 6 8 6 5]\n",
      "rand_array[-1]   8\n"
     ]
    }
   ],
   "source": [
    "np.random.seed(9)\n",
    "rand_array = np.random.randint(0, 10, 10)\n",
    "print(rand_array)\n",
    "print(np.arange(0, 10), ' index \\n')\n",
    "print('rand_array[:7]  ', rand_array[:7])\n",
    "print('rand_array[:7:3]', rand_array[:7:3])\n",
    "print('rand_array[::-1]', rand_array[::-1])\n",
    "print('rand_array[-1]  ', rand_array[-1])"
   ]
  },
  {
   "cell_type": "code",
   "execution_count": 49,
   "id": "ff009546-a1b8-44ff-8f22-f28777a7b644",
   "metadata": {},
   "outputs": [
    {
     "name": "stdout",
     "output_type": "stream",
     "text": [
      "[[5 1 0 8 8]\n",
      " [8 2 6 8 1]\n",
      " [8 3 5 3 6]] \n",
      "\n",
      "arr[2][4] 6\n",
      "arr[0] [5 1 0 8 8]\n",
      "arr[0][::-1] [8 8 0 1 5]\n"
     ]
    }
   ],
   "source": [
    "arr = np.random.randint(0, 10, (3, 5))\n",
    "print(arr, '\\n')\n",
    "print('arr[2][4]', arr[2][4])\n",
    "# print('arr[10]', arr[10])  # Error there is no line 10\n",
    "print('arr[0]', arr[0])\n",
    "print('arr[0][::-1]', arr[0][::-1])"
   ]
  },
  {
   "cell_type": "code",
   "execution_count": 55,
   "id": "00de62da-6d75-410c-81b8-3718865fd25b",
   "metadata": {},
   "outputs": [
    {
     "data": {
      "text/plain": [
       "array([ 0,  1,  2,  3,  4,  5,  6,  7,  8,  9, 10, 11, 12, 13, 14, 15, 16,\n",
       "       17, 18, 19, 20, 21, 22, 23, 24])"
      ]
     },
     "metadata": {},
     "output_type": "display_data"
    },
    {
     "data": {
      "text/plain": [
       "array([ 0,  0,  0,  0,  0,  0,  0,  0,  0,  0, 10, 11, 12, 13, 14, 15, 16,\n",
       "       17, 18, 19, 20, 21, 22, 23, 24])"
      ]
     },
     "metadata": {},
     "output_type": "display_data"
    }
   ],
   "source": [
    "orig = np.arange(0, 25)\n",
    "display(orig)\n",
    "orig[0:10] = 0\n",
    "display(orig)\n",
    "# put into "
   ]
  },
  {
   "cell_type": "code",
   "execution_count": 62,
   "id": "0e62a0ec-0b54-4a1b-80b6-ecee2eaaf8c0",
   "metadata": {},
   "outputs": [
    {
     "data": {
      "text/plain": [
       "'orig'"
      ]
     },
     "metadata": {},
     "output_type": "display_data"
    },
    {
     "data": {
      "text/plain": [
       "array([ 0,  1,  2,  3,  4,  5,  6,  7,  8,  9, 10, 11, 12, 13, 14, 15, 16,\n",
       "       17, 18, 19, 20, 21, 22, 23, 24])"
      ]
     },
     "metadata": {},
     "output_type": "display_data"
    },
    {
     "data": {
      "text/plain": [
       "'copy'"
      ]
     },
     "metadata": {},
     "output_type": "display_data"
    },
    {
     "data": {
      "text/plain": [
       "array([ 0,  0,  0,  0,  0,  0,  0,  0,  0,  0, 10, 11, 12, 13, 14, 15, 16,\n",
       "       17, 18, 19, 20, 21, 22, 23, 24])"
      ]
     },
     "metadata": {},
     "output_type": "display_data"
    },
    {
     "data": {
      "text/plain": [
       "'orig'"
      ]
     },
     "metadata": {},
     "output_type": "display_data"
    },
    {
     "data": {
      "text/plain": [
       "array([ 0,  1,  2,  3,  4,  5,  6,  7,  8,  9, 10, 11, 12, 13, 14, 15, 16,\n",
       "       17, 18, 19, 20, 21, 22, 23, 24])"
      ]
     },
     "metadata": {},
     "output_type": "display_data"
    }
   ],
   "source": [
    "orig = np.arange(0, 25)  # input data\n",
    "display('orig', orig)\n",
    "\n",
    "copy_orig = orig.copy()\n",
    "copy_orig[0:10] = 0\n",
    "display('copy', copy_orig)\n",
    "\n",
    "display('orig', orig)"
   ]
  },
  {
   "cell_type": "code",
   "execution_count": 96,
   "id": "194e6457-a51d-4cf9-b901-150321e1cd30",
   "metadata": {},
   "outputs": [
    {
     "data": {
      "text/plain": [
       "'orig'"
      ]
     },
     "metadata": {},
     "output_type": "display_data"
    },
    {
     "data": {
      "text/plain": [
       "array([0, 1, 2, 3, 4, 5, 6, 7, 8])"
      ]
     },
     "metadata": {},
     "output_type": "display_data"
    },
    {
     "data": {
      "text/plain": [
       "'orig > 5'"
      ]
     },
     "metadata": {},
     "output_type": "display_data"
    },
    {
     "data": {
      "text/plain": [
       "array([False, False, False, False, False, False,  True,  True,  True])"
      ]
     },
     "metadata": {},
     "output_type": "display_data"
    },
    {
     "data": {
      "text/plain": [
       "'orig > 5'"
      ]
     },
     "metadata": {},
     "output_type": "display_data"
    },
    {
     "data": {
      "text/plain": [
       "array([6, 7, 8])"
      ]
     },
     "metadata": {},
     "output_type": "display_data"
    },
    {
     "data": {
      "text/plain": [
       "'orig > 5'"
      ]
     },
     "metadata": {},
     "output_type": "display_data"
    },
    {
     "data": {
      "text/plain": [
       "array([6, 7, 8])"
      ]
     },
     "metadata": {},
     "output_type": "display_data"
    },
    {
     "data": {
      "text/plain": [
       "'orig > 5'"
      ]
     },
     "metadata": {},
     "output_type": "display_data"
    },
    {
     "data": {
      "text/plain": [
       "array([6, 7, 8])"
      ]
     },
     "metadata": {},
     "output_type": "display_data"
    },
    {
     "data": {
      "text/plain": [
       "'orig > 5 and orig < 9'"
      ]
     },
     "metadata": {},
     "output_type": "display_data"
    },
    {
     "data": {
      "text/plain": [
       "array([6, 7, 8])"
      ]
     },
     "metadata": {},
     "output_type": "display_data"
    },
    {
     "data": {
      "text/plain": [
       "'orig < 4 or orig >7'"
      ]
     },
     "metadata": {},
     "output_type": "display_data"
    },
    {
     "data": {
      "text/plain": [
       "array([0, 1, 2, 3, 8])"
      ]
     },
     "metadata": {},
     "output_type": "display_data"
    },
    {
     "data": {
      "text/plain": [
       "'not orig > 5 '"
      ]
     },
     "metadata": {},
     "output_type": "display_data"
    },
    {
     "data": {
      "text/plain": [
       "8"
      ]
     },
     "metadata": {},
     "output_type": "display_data"
    }
   ],
   "source": [
    "orig = np.arange(0, 9)  # input data\n",
    "display('orig', orig)\n",
    "display('orig > 5', orig > 5)\n",
    "display('orig > 5', orig[orig > 5])\n",
    "display('orig > 5', orig[[False,False,False,False,False,False,True,True,True]])\n",
    "\n",
    "# Bonus -->\n",
    "display('orig > 5', orig[[ *([False] * 6), True,  True,  True]])\n",
    "\n",
    "# [1, 2, 3]\n",
    "# print(*[1, 2, 3])  # 1, 2, 3  [ *([1,2,3]), 4, 5, 6 ] => [1, 2, 3, 4, 5, 6]\n",
    "\n",
    "# & and \n",
    "# | or \n",
    "# ~ not\n",
    "display('orig > 5 and orig < 9', orig[(orig > 5) & (orig < 9)])\n",
    "display('orig < 4 or orig >7', orig[(orig < 4) | (orig > 7)])\n",
    "display('not orig > 5 ', orig[~(orig > 5)])\n"
   ]
  },
  {
   "cell_type": "code",
   "execution_count": 101,
   "id": "460f243a-59ca-42c9-8bde-e597dc84dbe2",
   "metadata": {},
   "outputs": [
    {
     "name": "stdout",
     "output_type": "stream",
     "text": [
      "[ 5  6  7  8  9 10 11 12 13 14 15 16 17 18 19]\n",
      "[ 0  5  7 10 14 15]\n"
     ]
    }
   ],
   "source": [
    "\n",
    "nums = np.arange(0, 20)\n",
    "np.save('twenty.npy', nums)\n",
    "\n",
    "nums = np.load('twenty.npy')\n",
    "\n",
    "print(nums[(nums > 4) & (nums < 20)])\n",
    "print(nums[(nums % 5 == 0) | (nums % 7 == 0)])"
   ]
  },
  {
   "cell_type": "code",
   "execution_count": 114,
   "id": "19504c4c-8d21-41fb-b8d5-9c026019a434",
   "metadata": {},
   "outputs": [
    {
     "data": {
      "text/plain": [
       "array([0, 1, 2, 3, 4, 5, 6, 7, 8])"
      ]
     },
     "metadata": {},
     "output_type": "display_data"
    },
    {
     "name": "stdout",
     "output_type": "stream",
     "text": [
      "\n"
     ]
    },
    {
     "data": {
      "text/plain": [
       "'nums + 2'"
      ]
     },
     "metadata": {},
     "output_type": "display_data"
    },
    {
     "data": {
      "text/plain": [
       "array([ 2,  3,  4,  5,  6,  7,  8,  9, 10])"
      ]
     },
     "metadata": {},
     "output_type": "display_data"
    },
    {
     "data": {
      "text/plain": [
       "'nums * 2'"
      ]
     },
     "metadata": {},
     "output_type": "display_data"
    },
    {
     "data": {
      "text/plain": [
       "array([ 0,  2,  4,  6,  8, 10, 12, 14, 16])"
      ]
     },
     "metadata": {},
     "output_type": "display_data"
    },
    {
     "data": {
      "text/plain": [
       "'nums % 2'"
      ]
     },
     "metadata": {},
     "output_type": "display_data"
    },
    {
     "data": {
      "text/plain": [
       "array([0, 1, 0, 1, 0, 1, 0, 1, 0], dtype=int32)"
      ]
     },
     "metadata": {},
     "output_type": "display_data"
    },
    {
     "data": {
      "text/plain": [
       "'orig'"
      ]
     },
     "metadata": {},
     "output_type": "display_data"
    },
    {
     "data": {
      "text/plain": [
       "array([0, 1, 2, 3, 4, 5, 6, 7, 8])"
      ]
     },
     "metadata": {},
     "output_type": "display_data"
    },
    {
     "data": {
      "text/plain": [
       "array([10, 11, 12, 13, 14, 15, 16, 17, 18])"
      ]
     },
     "metadata": {},
     "output_type": "display_data"
    },
    {
     "data": {
      "text/plain": [
       "array([10, 12, 14, 16, 18, 20, 22, 24, 26])"
      ]
     },
     "execution_count": 114,
     "metadata": {},
     "output_type": "execute_result"
    }
   ],
   "source": [
    "nums = np.arange(0, 9)\n",
    "display(nums)\n",
    "print()\n",
    "display('nums + 2', nums + 2)\n",
    "display('nums * 2', nums * 2)\n",
    "display('nums % 2', nums % 2)\n",
    "display('orig', nums)\n",
    "\n",
    "nums2 = np.arange(10, 19)  \n",
    "display(nums2)\n",
    "nums + nums2  # must be same size\n"
   ]
  },
  {
   "cell_type": "code",
   "execution_count": null,
   "id": "73be26b9-2584-4cd7-8b1d-6d8b7a714751",
   "metadata": {},
   "outputs": [],
   "source": []
  }
 ],
 "metadata": {
  "kernelspec": {
   "display_name": "Python 3 (ipykernel)",
   "language": "python",
   "name": "python3"
  },
  "language_info": {
   "codemirror_mode": {
    "name": "ipython",
    "version": 3
   },
   "file_extension": ".py",
   "mimetype": "text/x-python",
   "name": "python",
   "nbconvert_exporter": "python",
   "pygments_lexer": "ipython3",
   "version": "3.11.7"
  }
 },
 "nbformat": 4,
 "nbformat_minor": 5
}
